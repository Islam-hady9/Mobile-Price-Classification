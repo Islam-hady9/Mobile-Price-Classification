{
 "cells": [
  {
   "cell_type": "code",
   "execution_count": 35,
   "metadata": {
    "execution": {
     "iopub.execute_input": "2023-05-26T05:59:35.54962Z",
     "iopub.status.busy": "2023-05-26T05:59:35.548396Z",
     "iopub.status.idle": "2023-05-26T05:59:36.658386Z",
     "shell.execute_reply": "2023-05-26T05:59:36.656737Z",
     "shell.execute_reply.started": "2023-05-26T05:59:35.549571Z"
    }
   },
   "outputs": [],
   "source": [
    "import numpy as np\n",
    "import pandas as pd\n",
    "import matplotlib.pyplot as plt\n",
    "import seaborn as sns"
   ]
  },
  {
   "cell_type": "markdown",
   "metadata": {},
   "source": [
    "**Reading Dataset using Pandas**"
   ]
  },
  {
   "cell_type": "code",
   "execution_count": 36,
   "metadata": {
    "execution": {
     "iopub.execute_input": "2023-05-26T05:59:38.979879Z",
     "iopub.status.busy": "2023-05-26T05:59:38.979001Z",
     "iopub.status.idle": "2023-05-26T05:59:39.017068Z",
     "shell.execute_reply": "2023-05-26T05:59:39.015698Z",
     "shell.execute_reply.started": "2023-05-26T05:59:38.979815Z"
    }
   },
   "outputs": [],
   "source": [
    "df = pd.read_csv(r'D:\\Machine Learning\\Projects\\Mobile Price Classification\\Dataset\\train.csv')"
   ]
  },
  {
   "cell_type": "code",
   "execution_count": 37,
   "metadata": {
    "execution": {
     "iopub.execute_input": "2023-05-26T05:59:40.239093Z",
     "iopub.status.busy": "2023-05-26T05:59:40.238674Z",
     "iopub.status.idle": "2023-05-26T05:59:40.296645Z",
     "shell.execute_reply": "2023-05-26T05:59:40.29522Z",
     "shell.execute_reply.started": "2023-05-26T05:59:40.239062Z"
    }
   },
   "outputs": [
    {
     "data": {
      "text/html": [
       "<div>\n",
       "<style scoped>\n",
       "    .dataframe tbody tr th:only-of-type {\n",
       "        vertical-align: middle;\n",
       "    }\n",
       "\n",
       "    .dataframe tbody tr th {\n",
       "        vertical-align: top;\n",
       "    }\n",
       "\n",
       "    .dataframe thead th {\n",
       "        text-align: right;\n",
       "    }\n",
       "</style>\n",
       "<table border=\"1\" class=\"dataframe\">\n",
       "  <thead>\n",
       "    <tr style=\"text-align: right;\">\n",
       "      <th></th>\n",
       "      <th>battery_power</th>\n",
       "      <th>blue</th>\n",
       "      <th>clock_speed</th>\n",
       "      <th>dual_sim</th>\n",
       "      <th>fc</th>\n",
       "      <th>four_g</th>\n",
       "      <th>int_memory</th>\n",
       "      <th>m_dep</th>\n",
       "      <th>mobile_wt</th>\n",
       "      <th>n_cores</th>\n",
       "      <th>...</th>\n",
       "      <th>px_height</th>\n",
       "      <th>px_width</th>\n",
       "      <th>ram</th>\n",
       "      <th>sc_h</th>\n",
       "      <th>sc_w</th>\n",
       "      <th>talk_time</th>\n",
       "      <th>three_g</th>\n",
       "      <th>touch_screen</th>\n",
       "      <th>wifi</th>\n",
       "      <th>price_range</th>\n",
       "    </tr>\n",
       "  </thead>\n",
       "  <tbody>\n",
       "    <tr>\n",
       "      <th>0</th>\n",
       "      <td>842</td>\n",
       "      <td>0</td>\n",
       "      <td>2.2</td>\n",
       "      <td>0</td>\n",
       "      <td>1</td>\n",
       "      <td>0</td>\n",
       "      <td>7</td>\n",
       "      <td>0.6</td>\n",
       "      <td>188</td>\n",
       "      <td>2</td>\n",
       "      <td>...</td>\n",
       "      <td>20</td>\n",
       "      <td>756</td>\n",
       "      <td>2549</td>\n",
       "      <td>9</td>\n",
       "      <td>7</td>\n",
       "      <td>19</td>\n",
       "      <td>0</td>\n",
       "      <td>0</td>\n",
       "      <td>1</td>\n",
       "      <td>1</td>\n",
       "    </tr>\n",
       "    <tr>\n",
       "      <th>1</th>\n",
       "      <td>1021</td>\n",
       "      <td>1</td>\n",
       "      <td>0.5</td>\n",
       "      <td>1</td>\n",
       "      <td>0</td>\n",
       "      <td>1</td>\n",
       "      <td>53</td>\n",
       "      <td>0.7</td>\n",
       "      <td>136</td>\n",
       "      <td>3</td>\n",
       "      <td>...</td>\n",
       "      <td>905</td>\n",
       "      <td>1988</td>\n",
       "      <td>2631</td>\n",
       "      <td>17</td>\n",
       "      <td>3</td>\n",
       "      <td>7</td>\n",
       "      <td>1</td>\n",
       "      <td>1</td>\n",
       "      <td>0</td>\n",
       "      <td>2</td>\n",
       "    </tr>\n",
       "    <tr>\n",
       "      <th>2</th>\n",
       "      <td>563</td>\n",
       "      <td>1</td>\n",
       "      <td>0.5</td>\n",
       "      <td>1</td>\n",
       "      <td>2</td>\n",
       "      <td>1</td>\n",
       "      <td>41</td>\n",
       "      <td>0.9</td>\n",
       "      <td>145</td>\n",
       "      <td>5</td>\n",
       "      <td>...</td>\n",
       "      <td>1263</td>\n",
       "      <td>1716</td>\n",
       "      <td>2603</td>\n",
       "      <td>11</td>\n",
       "      <td>2</td>\n",
       "      <td>9</td>\n",
       "      <td>1</td>\n",
       "      <td>1</td>\n",
       "      <td>0</td>\n",
       "      <td>2</td>\n",
       "    </tr>\n",
       "    <tr>\n",
       "      <th>3</th>\n",
       "      <td>615</td>\n",
       "      <td>1</td>\n",
       "      <td>2.5</td>\n",
       "      <td>0</td>\n",
       "      <td>0</td>\n",
       "      <td>0</td>\n",
       "      <td>10</td>\n",
       "      <td>0.8</td>\n",
       "      <td>131</td>\n",
       "      <td>6</td>\n",
       "      <td>...</td>\n",
       "      <td>1216</td>\n",
       "      <td>1786</td>\n",
       "      <td>2769</td>\n",
       "      <td>16</td>\n",
       "      <td>8</td>\n",
       "      <td>11</td>\n",
       "      <td>1</td>\n",
       "      <td>0</td>\n",
       "      <td>0</td>\n",
       "      <td>2</td>\n",
       "    </tr>\n",
       "    <tr>\n",
       "      <th>4</th>\n",
       "      <td>1821</td>\n",
       "      <td>1</td>\n",
       "      <td>1.2</td>\n",
       "      <td>0</td>\n",
       "      <td>13</td>\n",
       "      <td>1</td>\n",
       "      <td>44</td>\n",
       "      <td>0.6</td>\n",
       "      <td>141</td>\n",
       "      <td>2</td>\n",
       "      <td>...</td>\n",
       "      <td>1208</td>\n",
       "      <td>1212</td>\n",
       "      <td>1411</td>\n",
       "      <td>8</td>\n",
       "      <td>2</td>\n",
       "      <td>15</td>\n",
       "      <td>1</td>\n",
       "      <td>1</td>\n",
       "      <td>0</td>\n",
       "      <td>1</td>\n",
       "    </tr>\n",
       "  </tbody>\n",
       "</table>\n",
       "<p>5 rows × 21 columns</p>\n",
       "</div>"
      ],
      "text/plain": [
       "   battery_power  blue  clock_speed  dual_sim  fc  four_g  int_memory  m_dep  \\\n",
       "0            842     0          2.2         0   1       0           7    0.6   \n",
       "1           1021     1          0.5         1   0       1          53    0.7   \n",
       "2            563     1          0.5         1   2       1          41    0.9   \n",
       "3            615     1          2.5         0   0       0          10    0.8   \n",
       "4           1821     1          1.2         0  13       1          44    0.6   \n",
       "\n",
       "   mobile_wt  n_cores  ...  px_height  px_width   ram  sc_h  sc_w  talk_time  \\\n",
       "0        188        2  ...         20       756  2549     9     7         19   \n",
       "1        136        3  ...        905      1988  2631    17     3          7   \n",
       "2        145        5  ...       1263      1716  2603    11     2          9   \n",
       "3        131        6  ...       1216      1786  2769    16     8         11   \n",
       "4        141        2  ...       1208      1212  1411     8     2         15   \n",
       "\n",
       "   three_g  touch_screen  wifi  price_range  \n",
       "0        0             0     1            1  \n",
       "1        1             1     0            2  \n",
       "2        1             1     0            2  \n",
       "3        1             0     0            2  \n",
       "4        1             1     0            1  \n",
       "\n",
       "[5 rows x 21 columns]"
      ]
     },
     "execution_count": 37,
     "metadata": {},
     "output_type": "execute_result"
    }
   ],
   "source": [
    "df.head()"
   ]
  },
  {
   "cell_type": "code",
   "execution_count": 38,
   "metadata": {
    "execution": {
     "iopub.execute_input": "2023-05-26T06:00:48.849869Z",
     "iopub.status.busy": "2023-05-26T06:00:48.8494Z",
     "iopub.status.idle": "2023-05-26T06:00:48.857288Z",
     "shell.execute_reply": "2023-05-26T06:00:48.856248Z",
     "shell.execute_reply.started": "2023-05-26T06:00:48.849837Z"
    }
   },
   "outputs": [],
   "source": [
    "X = df[['battery_power','dual_sim','int_memory','ram','touch_screen']]"
   ]
  },
  {
   "cell_type": "code",
   "execution_count": 39,
   "metadata": {
    "execution": {
     "iopub.execute_input": "2023-05-26T06:00:49.987783Z",
     "iopub.status.busy": "2023-05-26T06:00:49.98706Z",
     "iopub.status.idle": "2023-05-26T06:00:49.993958Z",
     "shell.execute_reply": "2023-05-26T06:00:49.992607Z",
     "shell.execute_reply.started": "2023-05-26T06:00:49.987747Z"
    }
   },
   "outputs": [],
   "source": [
    "y = df[['price_range']]"
   ]
  },
  {
   "cell_type": "markdown",
   "metadata": {},
   "source": [
    "**Splitting into train and test**"
   ]
  },
  {
   "cell_type": "code",
   "execution_count": 40,
   "metadata": {
    "execution": {
     "iopub.execute_input": "2023-05-26T06:00:52.038683Z",
     "iopub.status.busy": "2023-05-26T06:00:52.038264Z",
     "iopub.status.idle": "2023-05-26T06:00:52.280985Z",
     "shell.execute_reply": "2023-05-26T06:00:52.279573Z",
     "shell.execute_reply.started": "2023-05-26T06:00:52.038651Z"
    }
   },
   "outputs": [],
   "source": [
    "from sklearn.model_selection import train_test_split"
   ]
  },
  {
   "cell_type": "code",
   "execution_count": 41,
   "metadata": {
    "execution": {
     "iopub.execute_input": "2023-05-26T06:01:05.150007Z",
     "iopub.status.busy": "2023-05-26T06:01:05.149533Z",
     "iopub.status.idle": "2023-05-26T06:01:05.16348Z",
     "shell.execute_reply": "2023-05-26T06:01:05.160382Z",
     "shell.execute_reply.started": "2023-05-26T06:01:05.149974Z"
    }
   },
   "outputs": [],
   "source": [
    "X_train,X_test,y_train,y_test = train_test_split(X,y,test_size=0.25,random_state=42)"
   ]
  },
  {
   "cell_type": "markdown",
   "metadata": {},
   "source": [
    "**RandomForestClassifier**"
   ]
  },
  {
   "cell_type": "code",
   "execution_count": 42,
   "metadata": {
    "execution": {
     "iopub.execute_input": "2023-05-26T06:01:06.679721Z",
     "iopub.status.busy": "2023-05-26T06:01:06.679285Z",
     "iopub.status.idle": "2023-05-26T06:01:07.215913Z",
     "shell.execute_reply": "2023-05-26T06:01:07.21394Z",
     "shell.execute_reply.started": "2023-05-26T06:01:06.679686Z"
    }
   },
   "outputs": [],
   "source": [
    "from sklearn.ensemble import RandomForestClassifier"
   ]
  },
  {
   "cell_type": "code",
   "execution_count": 43,
   "metadata": {
    "execution": {
     "iopub.execute_input": "2023-05-26T06:01:25.947381Z",
     "iopub.status.busy": "2023-05-26T06:01:25.946864Z",
     "iopub.status.idle": "2023-05-26T06:01:25.955161Z",
     "shell.execute_reply": "2023-05-26T06:01:25.95348Z",
     "shell.execute_reply.started": "2023-05-26T06:01:25.947341Z"
    }
   },
   "outputs": [],
   "source": [
    "RFC = RandomForestClassifier()"
   ]
  },
  {
   "cell_type": "markdown",
   "metadata": {},
   "source": [
    "**We will pass best hyper parameters for RandomForestClassifier**"
   ]
  },
  {
   "cell_type": "code",
   "execution_count": 44,
   "metadata": {},
   "outputs": [],
   "source": [
    "y_train = np.ravel(y_train)"
   ]
  },
  {
   "cell_type": "code",
   "execution_count": 45,
   "metadata": {
    "execution": {
     "iopub.execute_input": "2023-05-26T07:35:39.843819Z",
     "iopub.status.busy": "2023-05-26T07:35:39.843407Z",
     "iopub.status.idle": "2023-05-26T07:35:39.84874Z",
     "shell.execute_reply": "2023-05-26T07:35:39.847655Z",
     "shell.execute_reply.started": "2023-05-26T07:35:39.843789Z"
    }
   },
   "outputs": [],
   "source": [
    "RFC = RandomForestClassifier(criterion='entropy',n_estimators=500,max_depth=9)"
   ]
  },
  {
   "cell_type": "code",
   "execution_count": 46,
   "metadata": {
    "execution": {
     "iopub.execute_input": "2023-05-26T07:35:41.368538Z",
     "iopub.status.busy": "2023-05-26T07:35:41.367417Z",
     "iopub.status.idle": "2023-05-26T07:35:43.180218Z",
     "shell.execute_reply": "2023-05-26T07:35:43.179106Z",
     "shell.execute_reply.started": "2023-05-26T07:35:41.368497Z"
    }
   },
   "outputs": [
    {
     "data": {
      "text/plain": [
       "RandomForestClassifier(criterion='entropy', max_depth=9, n_estimators=500)"
      ]
     },
     "execution_count": 46,
     "metadata": {},
     "output_type": "execute_result"
    }
   ],
   "source": [
    "RFC.fit(X_train,y_train)"
   ]
  },
  {
   "cell_type": "code",
   "execution_count": 47,
   "metadata": {
    "execution": {
     "iopub.execute_input": "2023-05-26T07:35:44.79646Z",
     "iopub.status.busy": "2023-05-26T07:35:44.796056Z",
     "iopub.status.idle": "2023-05-26T07:35:44.900245Z",
     "shell.execute_reply": "2023-05-26T07:35:44.898963Z",
     "shell.execute_reply.started": "2023-05-26T07:35:44.796427Z"
    }
   },
   "outputs": [],
   "source": [
    "y_hat = RFC.predict(X_test)"
   ]
  },
  {
   "cell_type": "code",
   "execution_count": 48,
   "metadata": {
    "execution": {
     "iopub.execute_input": "2023-05-26T07:35:46.408896Z",
     "iopub.status.busy": "2023-05-26T07:35:46.408392Z",
     "iopub.status.idle": "2023-05-26T07:35:46.413044Z",
     "shell.execute_reply": "2023-05-26T07:35:46.412013Z",
     "shell.execute_reply.started": "2023-05-26T07:35:46.408863Z"
    }
   },
   "outputs": [],
   "source": [
    "from sklearn.metrics import accuracy_score,classification_report,confusion_matrix"
   ]
  },
  {
   "cell_type": "code",
   "execution_count": 49,
   "metadata": {
    "execution": {
     "iopub.execute_input": "2023-05-26T07:35:47.825266Z",
     "iopub.status.busy": "2023-05-26T07:35:47.824868Z",
     "iopub.status.idle": "2023-05-26T07:35:47.834585Z",
     "shell.execute_reply": "2023-05-26T07:35:47.833134Z",
     "shell.execute_reply.started": "2023-05-26T07:35:47.825235Z"
    }
   },
   "outputs": [
    {
     "name": "stdout",
     "output_type": "stream",
     "text": [
      "0.792\n"
     ]
    }
   ],
   "source": [
    "print(accuracy_score(y_test,y_hat))"
   ]
  },
  {
   "cell_type": "code",
   "execution_count": 50,
   "metadata": {
    "execution": {
     "iopub.execute_input": "2023-05-26T07:35:49.476398Z",
     "iopub.status.busy": "2023-05-26T07:35:49.476022Z",
     "iopub.status.idle": "2023-05-26T07:35:49.488947Z",
     "shell.execute_reply": "2023-05-26T07:35:49.487593Z",
     "shell.execute_reply.started": "2023-05-26T07:35:49.476369Z"
    }
   },
   "outputs": [
    {
     "name": "stdout",
     "output_type": "stream",
     "text": [
      "[[121  11   0   0]\n",
      " [ 13  89  16   0]\n",
      " [  0  20  83  17]\n",
      " [  0   0  27 103]]\n"
     ]
    }
   ],
   "source": [
    "print(confusion_matrix(y_test,y_hat))"
   ]
  },
  {
   "cell_type": "code",
   "execution_count": 51,
   "metadata": {
    "execution": {
     "iopub.execute_input": "2023-05-26T07:35:50.396966Z",
     "iopub.status.busy": "2023-05-26T07:35:50.395714Z",
     "iopub.status.idle": "2023-05-26T07:35:50.416457Z",
     "shell.execute_reply": "2023-05-26T07:35:50.415063Z",
     "shell.execute_reply.started": "2023-05-26T07:35:50.396925Z"
    }
   },
   "outputs": [
    {
     "name": "stdout",
     "output_type": "stream",
     "text": [
      "              precision    recall  f1-score   support\n",
      "\n",
      "           0       0.90      0.92      0.91       132\n",
      "           1       0.74      0.75      0.75       118\n",
      "           2       0.66      0.69      0.67       120\n",
      "           3       0.86      0.79      0.82       130\n",
      "\n",
      "    accuracy                           0.79       500\n",
      "   macro avg       0.79      0.79      0.79       500\n",
      "weighted avg       0.79      0.79      0.79       500\n",
      "\n"
     ]
    }
   ],
   "source": [
    "print(classification_report(y_test,y_hat))"
   ]
  }
 ],
 "metadata": {
  "kernelspec": {
   "display_name": "Python 3 (ipykernel)",
   "language": "python",
   "name": "python3"
  },
  "language_info": {
   "codemirror_mode": {
    "name": "ipython",
    "version": 3
   },
   "file_extension": ".py",
   "mimetype": "text/x-python",
   "name": "python",
   "nbconvert_exporter": "python",
   "pygments_lexer": "ipython3",
   "version": "3.9.13"
  }
 },
 "nbformat": 4,
 "nbformat_minor": 4
}
